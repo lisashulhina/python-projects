{
 "cells": [
  {
   "cell_type": "code",
   "execution_count": 1,
   "metadata": {},
   "outputs": [
    {
     "data": {
      "text/plain": [
       "[4, 3, 2, 1]"
      ]
     },
     "execution_count": 1,
     "metadata": {},
     "output_type": "execute_result"
    }
   ],
   "source": [
    "#Reverse the list below:\n",
    "\n",
    "list1 = [1,2,3,4]\n",
    "list1.reverse()\n",
    "\n",
    "list1"
   ]
  },
  {
   "cell_type": "code",
   "execution_count": 2,
   "metadata": {
    "pycharm": {
     "name": "#%%\n"
    }
   },
   "outputs": [
    {
     "data": {
      "text/plain": [
       "[4, 3, 2, 1]"
      ]
     },
     "execution_count": 2,
     "metadata": {},
     "output_type": "execute_result"
    }
   ],
   "source": [
    "#Reverse the list below:\n",
    "\n",
    "list1 = [1,2,3,4]\n",
    "list1 = list1[::-1]\n",
    "\n",
    "list1"
   ]
  },
  {
   "cell_type": "code",
   "execution_count": 6,
   "metadata": {
    "pycharm": {
     "name": "#%%\n"
    }
   },
   "outputs": [
    {
     "name": "stdout",
     "output_type": "stream",
     "text": [
      "Time: 09:14:16\n"
     ]
    }
   ],
   "source": [
    "string = \"stephen.marquard@uct.ac.za Sat Jan 5 09:14:16 2008\"\n",
    "\n",
    "#For the specified string , retrive time and display separately\n",
    "\n",
    "listFromSrtring = string.split()\n",
    "print(\"Time:\", listFromSrtring[4])\n"
   ]
  },
  {
   "cell_type": "code",
   "execution_count": 8,
   "metadata": {},
   "outputs": [
    {
     "name": "stdout",
     "output_type": "stream",
     "text": [
      "Input number:1\n",
      "Input number:2\n",
      "Input number:3\n",
      "Input number:4\n",
      "Input number:5\n",
      "Average: 3.0\n"
     ]
    }
   ],
   "source": [
    "# Write a program to read different values from the user and \n",
    "# convert all the values received in to list and then compute average\n",
    "userInputList = []\n",
    "\n",
    "for i in range(5):\n",
    "    userInputList.append(int(input(\"Input number:\")))\n",
    "    \n",
    "sumOfAll = 0\n",
    "for i in userInputList:\n",
    "    sumOfAll = sumOfAll + i\n",
    "    \n",
    "print(\"Average:\", sumOfAll/len(userInputList))"
   ]
  },
  {
   "cell_type": "code",
   "execution_count": 11,
   "metadata": {},
   "outputs": [
    {
     "name": "stdout",
     "output_type": "stream",
     "text": [
      "Enter temperature in celsius: 55\n",
      "55.00 Celsius is 131.00 Fahrenheit\n"
     ]
    }
   ],
   "source": [
    "# Write program to receive the input of temprature in celsicus and convert it into fahrenheit\n",
    "celsius = float(input(\"Enter temperature in celsius: \"))\n",
    "fahrenheit = (celsius * 9/5) + 32\n",
    "print('%.2f Celsius is %0.2f Fahrenheit' %(celsius, fahrenheit))"
   ]
  },
  {
   "cell_type": "code",
   "execution_count": 13,
   "metadata": {},
   "outputs": [
    {
     "name": "stdout",
     "output_type": "stream",
     "text": [
      "Enter a score between 0.0 and 1.0: 0.5\n",
      "Score: F\n"
     ]
    }
   ],
   "source": [
    "\"\"\"Write a program to prompt from the user for a score between 0.0 and 1.0.\n",
    "\n",
    "If the score is out of range print an error. If the score is between 0.0 and 1.0,\n",
    "\n",
    "print a grade using the following table:\n",
    "\n",
    "Score Grade\n",
    "\n",
    ">= 0.9 A\n",
    "\n",
    ">= 0.8 B\n",
    "\n",
    ">= 0.7 C\n",
    "\n",
    ">= 0.6 D\n",
    "\n",
    "< 0.6 F\n",
    "\"\"\"\n",
    "\n",
    "userInput = float(input(\"Enter a score between 0.0 and 1.0: \"))\n",
    "\n",
    "if userInput>1.0 or userInput<0:\n",
    "    print(\"The score is out of range!\")\n",
    "elif userInput<=1.0 and userInput>=0.9:\n",
    "    print(\"Score: A\")\n",
    "elif userInput<0.9 and userInput>=0.8:\n",
    "    print(\"Score: B\")\n",
    "elif userInput<0.8 and userInput>=0.7:\n",
    "    print(\"Score: C\")\n",
    "elif userInput<0.7 and userInput>=0.6:\n",
    "    print(\"Score: D\")\n",
    "else:\n",
    "    print(\"Score: F\")"
   ]
  },
  {
   "cell_type": "code",
   "execution_count": 14,
   "metadata": {},
   "outputs": [
    {
     "data": {
      "text/plain": [
       "74"
      ]
     },
     "execution_count": 14,
     "metadata": {},
     "output_type": "execute_result"
    }
   ],
   "source": [
    "#find the largest value in a list [3, 41, 12, 9, 74, 15], construct the program \n",
    "#using either for loop or while loop instead of using min and max functions\n",
    "userList = [3, 41, 12, 9, 74, 15]\n",
    "c = 0 \n",
    "for i in userList:\n",
    "    if i>c:\n",
    "        c = i\n",
    "        \n",
    "c"
   ]
  },
  {
   "cell_type": "code",
   "execution_count": 22,
   "metadata": {},
   "outputs": [
    {
     "name": "stdout",
     "output_type": "stream",
     "text": [
      "a credit card number: kjbijn\n",
      "not valid\n"
     ]
    }
   ],
   "source": [
    "#program that Takes in a credit card number from a common\n",
    "#credit card vendor (Visa, MasterCard, American Express, Discover)\n",
    "#and validates it to make sure that it is a valid number\n",
    "\n",
    "userInput = input(\"a credit card number: \")\n",
    "userInput = userInput.replace(\" \", \"\")\n",
    "isValid = True\n",
    "\n",
    "if len(userInput) != 16 or not isinstance(i, int):\n",
    "    isValid = False\n",
    "\n",
    "if isValid:\n",
    "    print(\"valid\")\n",
    "else:\n",
    "    print(\"not valid\")"
   ]
  },
  {
   "cell_type": "code",
   "execution_count": 24,
   "metadata": {},
   "outputs": [
    {
     "name": "stdout",
     "output_type": "stream",
     "text": [
      "a credit card number: jkdsjcso`iiwweueuehruyryetyuee\n"
     ]
    },
    {
     "data": {
      "text/plain": [
       "13"
      ]
     },
     "execution_count": 24,
     "metadata": {},
     "output_type": "execute_result"
    }
   ],
   "source": [
    "#Enter a string and the program counts the number of vowels in the text.\n",
    "\n",
    "#For added complexity have it report a sum of each vowel found.\n",
    "\n",
    "userInput = input(\"a credit card number: \")\n",
    "count = 0\n",
    "for i in userInput:\n",
    "    if i.lower() in \"aeiou\":\n",
    "        count = count + 1\n",
    "        \n",
    "count"
   ]
  },
  {
   "cell_type": "code",
   "execution_count": null,
   "metadata": {},
   "outputs": [],
   "source": []
  }
 ],
 "metadata": {
  "kernelspec": {
   "display_name": "Python 3",
   "language": "python",
   "name": "python3"
  },
  "language_info": {
   "codemirror_mode": {
    "name": "ipython",
    "version": 3
   },
   "file_extension": ".py",
   "mimetype": "text/x-python",
   "name": "python",
   "nbconvert_exporter": "python",
   "pygments_lexer": "ipython3",
   "version": "3.7.3"
  }
 },
 "nbformat": 4,
 "nbformat_minor": 1
}