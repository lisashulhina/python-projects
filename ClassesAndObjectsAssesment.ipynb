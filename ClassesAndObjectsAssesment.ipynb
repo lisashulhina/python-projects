{
 "cells": [
  {
   "cell_type": "code",
   "execution_count": 26,
   "metadata": {
    "pycharm": {
     "is_executing": true
    }
   },
   "outputs": [
    {
     "name": "stdout",
     "output_type": "stream",
     "text": [
      "Kate\n",
      "17\n",
      "Teenager\n"
     ]
    }
   ],
   "source": [
    "class Person:\n",
    "    def __init__(self, name, age):\n",
    "        self.Name = name\n",
    "        self.Age = age\n",
    "    def Birthday(self):\n",
    "        self.Age = 1 + self.Age\n",
    "        print(self.Age)\n",
    "    def isteenager(self):\n",
    "        if self.Age < 0:\n",
    "            print(\"Age cannot be negative.\")\n",
    "        elif 0 <= self.Age < 14:\n",
    "            print(\"Child\")\n",
    "        else:\n",
    "            print(\"Teenager\")\n",
    "            \n",
    "p1 = Person('Kate', 17)\n",
    "\n",
    "print(p1.Name)\n",
    "print(p1.Age)\n",
    "p1.isteenager()"
   ]
  },
  {
   "cell_type": "code",
   "execution_count": null,
   "outputs": [],
   "source": [
    "class Account:\n",
    "    def __init__(self, accountNumber, accountHolder, openingBalance, typeOfAccount):\n",
    "        self.accountNumber = accountNumber\n",
    "        self.accountHolder = accountHolder\n",
    "        self.openingBalance = openingBalance\n",
    "        self.typeOfAccount = typeOfAccount\n",
    "    def deposit(self, amount):\n",
    "        self.openingBalance = self.openingBalance + amount\n",
    "    def withdraw(self,amount): \n",
    "        self.openingBalance = self.openingBalance - amount\n",
    "    def get_balance(self):\n",
    "        return self.openingBalance\n",
    "    def display(self):\n",
    "        print(\"Account[\", self.accountNumber ,\"] -\", self.typeOfAccount , \"account =\" , self.get_balance())\n",
    "\n",
    "ac1 = Account(1021300394, \"Kate Faridas\", 1000, \"Checking\")\n",
    "ac1.deposit(100)\n",
    "ac1.withdraw(10)\n",
    "ac1.display()"
   ],
   "metadata": {
    "collapsed": false,
    "pycharm": {
     "name": "#%%\n"
    }
   }
  },
  {
   "cell_type": "code",
   "execution_count": null,
   "outputs": [],
   "source": [
    "acc1 = Account('123', 'John', 10.05, 'current')\n",
    "acc2 = Account('345', 'John', 23.55, 'savings')\n",
    "acc3 = Account('567', 'Phoebe', 12.45, 'investment')\n",
    "print(acc1.display())\n",
    "print(acc2.display())\n",
    "print(acc3.display())\n",
    "acc1.deposit(23.45)\n",
    "acc1.withdraw(12.33)\n",
    "print('balance:', acc1.get_balance())"
   ],
   "metadata": {
    "collapsed": false,
    "pycharm": {
     "name": "#%%\n"
    }
   }
  },
  {
   "cell_type": "code",
   "execution_count": 12,
   "metadata": {},
   "outputs": [
    {
     "name": "stdout",
     "output_type": "stream",
     "text": [
      "Account[ 1021300394 ] - Checking account = 1090\n"
     ]
    }
   ],
   "source": []
  },
  {
   "cell_type": "code",
   "execution_count": 14,
   "metadata": {},
   "outputs": [
    {
     "name": "stdout",
     "output_type": "stream",
     "text": [
      "Account[ 123 ] - current account = 10.05\n",
      "None\n",
      "Account[ 345 ] - savings account = 23.55\n",
      "None\n",
      "Account[ 567 ] - investment account = 12.45\n",
      "None\n",
      "balance: 21.17\n"
     ]
    }
   ],
   "source": [
    "acc1 = Account('123', 'John', 10.05, 'current')\n",
    "acc2 = Account('345', 'John', 23.55, 'savings')\n",
    "acc3 = Account('567', 'Phoebe', 12.45, 'investment')\n",
    "print(acc1.display())\n",
    "print(acc2.display())\n",
    "print(acc3.display())\n",
    "acc1.deposit(23.45)\n",
    "acc1.withdraw(12.33)\n",
    "print('balance:', acc1.get_balance())"
   ]
  },
  {
   "cell_type": "code",
   "execution_count": null,
   "metadata": {},
   "outputs": [],
   "source": []
  }
 ],
 "metadata": {
  "kernelspec": {
   "display_name": "Python 3",
   "language": "python",
   "name": "python3"
  },
  "language_info": {
   "codemirror_mode": {
    "name": "ipython",
    "version": 3
   },
   "file_extension": ".py",
   "mimetype": "text/x-python",
   "name": "python",
   "nbconvert_exporter": "python",
   "pygments_lexer": "ipython3",
   "version": "3.7.3"
  }
 },
 "nbformat": 4,
 "nbformat_minor": 1
}