{
 "cells": [
  {
   "cell_type": "code",
   "execution_count": 5,
   "metadata": {},
   "outputs": [
    {
     "name": "stdout",
     "output_type": "stream",
     "text": [
      "String2 is larger\n"
     ]
    }
   ],
   "source": [
    "# Python Program to Take in Two Strings and Display the Larger String without Using Built-in Functions\n",
    "string1 = \"string\"\n",
    "string2 = \"larger string\"\n",
    "\n",
    "counter = 0\n",
    "for i in string1:\n",
    "    counter = counter + 1\n",
    "    \n",
    "for i in string2:\n",
    "    counter = counter - 1\n",
    "    \n",
    "if counter< 0:\n",
    "    print(\"String2 is larger\")\n",
    "elif counter> 0:\n",
    "    print(\"String1 is larger\")\n",
    "else:\n",
    "    print(\"Strings are equivalent\")"
   ]
  },
  {
   "cell_type": "code",
   "execution_count": 24,
   "metadata": {},
   "outputs": [
    {
     "data": {
      "text/plain": [
       "6"
      ]
     },
     "execution_count": 24,
     "metadata": {},
     "output_type": "execute_result"
    }
   ],
   "source": [
    "# Python Program to Count Number of Lowercase Characters in a String\n",
    "\n",
    "string = \"RaNdOm StRiNg\"\n",
    "\n",
    "counter = 0\n",
    "for i in string:\n",
    "    if i.islower():\n",
    "        counter = counter + 1\n",
    "        \n",
    "counter"
   ]
  },
  {
   "cell_type": "code",
   "execution_count": 23,
   "metadata": {},
   "outputs": [
    {
     "data": {
      "text/plain": [
       "True"
      ]
     },
     "execution_count": 23,
     "metadata": {},
     "output_type": "execute_result"
    }
   ],
   "source": [
    "# Python Program to Check if a String is a Palindrome or Not\n",
    "s = \"A Santa Lived As a Devil At NASA \"\n",
    "s.replace(\" \", \"\").lower() == s[::-1].replace(\" \", \"\").lower()"
   ]
  },
  {
   "cell_type": "code",
   "execution_count": 26,
   "metadata": {},
   "outputs": [
    {
     "name": "stdout",
     "output_type": "stream",
     "text": [
      "Lower Case Letters: 20\n",
      "Upper Case Letters: 6\n"
     ]
    }
   ],
   "source": [
    "# Python Program to Calculate the Number of Upper Case Letters and Lower Case Letters in a String\n",
    "string = \"RaNdOm StRiNg with characters\"\n",
    "counterLower = 0\n",
    "counterUpper = 0\n",
    "for i in string:\n",
    "    if i.islower():\n",
    "        counterLower = counterLower + 1\n",
    "    elif i.isupper():\n",
    "        counterUpper = counterUpper + 1\n",
    "        \n",
    "print(\"Lower Case Letters:\", counterLower)\n",
    "print(\"Upper Case Letters:\", counterUpper)"
   ]
  },
  {
   "cell_type": "code",
   "execution_count": 32,
   "metadata": {},
   "outputs": [
    {
     "name": "stdout",
     "output_type": "stream",
     "text": [
      "Number of Letters: 4\n",
      "Number of Digits: 3\n"
     ]
    }
   ],
   "source": [
    "# Python Program to Calculate the Number of Digits and Letters in a String\n",
    "string = \"RaNdOm StR5iNg with 2digi4ts\"\n",
    "\n",
    "print(\"Number of Letters:\", len(string.split()))\n",
    "\n",
    "counter = 0\n",
    "for i in string:\n",
    "    if i.isdigit():\n",
    "        counter = counter + 1\n",
    "\n",
    "print(\"Number of Digits:\", counter)"
   ]
  },
  {
   "cell_type": "code",
   "execution_count": 37,
   "metadata": {},
   "outputs": [
    {
     "name": "stdout",
     "output_type": "stream",
     "text": [
      "Initial stack\n",
      "['1', '2', '3', '4', '5']\n",
      "\n",
      "Elements popped from stack:\n",
      "5\n",
      "4\n",
      "3\n",
      "\n",
      "Stack after elements are popped:\n",
      "['1', '2']\n"
     ]
    }
   ],
   "source": [
    "# The program to create a stack and allow the user to perform push and pop operations on it\n",
    "stack = []\n",
    " \n",
    "stack.append('1')\n",
    "stack.append('2')\n",
    "stack.append('3')\n",
    "stack.append('4')\n",
    "stack.append('5')\n",
    "\n",
    "print('Initial stack')\n",
    "print(stack)\n",
    "\n",
    "\n",
    "print('\\nElements popped from stack:')\n",
    "print(stack.pop())\n",
    "print(stack.pop())\n",
    "print(stack.pop())\n",
    "\n",
    "print('\\nStack after elements are popped:')\n",
    "print(stack)"
   ]
  },
  {
   "cell_type": "code",
   "execution_count": 61,
   "metadata": {
    "pycharm": {
     "name": "#%%\n"
    }
   },
   "outputs": [
    {
     "data": {
      "text/plain": [
       "[(6, 24, 12), (12, 18, 21)]"
      ]
     },
     "execution_count": 61,
     "metadata": {},
     "output_type": "execute_result"
    }
   ],
   "source": [
    "'''\n",
    "In a list of tuples. The task is to extract all tuples which have all elements divisible by K.\n",
    "\n",
    "Input : test_list = [(6, 24, 12), (60, 12, 6), (12, 18, 21)], K = 6\n",
    "\n",
    "Output : [(6, 24, 12), (60, 12, 6)]\n",
    "\n",
    "Input : test_list = [(6, 24, 12), (60, 10, 5), (12, 18, 21)], K = 5\n",
    "\n",
    "Output : [(60, 10, 5)]\n",
    "'''\n",
    "\n",
    "test_list = [(6, 24, 12), (60, 10, 5), (12, 18, 21)]\n",
    "K = 5\n",
    "\n",
    "for i in test_list:\n",
    "    \n",
    "    counter = 0\n",
    "    \n",
    "    for j in i:\n",
    "        if j%K == 0:\n",
    "            counter = counter + 1\n",
    "    \n",
    "    if counter == len(i):\n",
    "        test_list.remove(i)\n",
    "        \n",
    "test_list"
   ]
  }
 ],
 "metadata": {
  "kernelspec": {
   "display_name": "Python 3",
   "language": "python",
   "name": "python3"
  },
  "language_info": {
   "codemirror_mode": {
    "name": "ipython",
    "version": 3
   },
   "file_extension": ".py",
   "mimetype": "text/x-python",
   "name": "python",
   "nbconvert_exporter": "python",
   "pygments_lexer": "ipython3",
   "version": "3.7.3"
  }
 },
 "nbformat": 4,
 "nbformat_minor": 1
}