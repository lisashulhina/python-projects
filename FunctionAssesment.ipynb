{
 "cells": [
  {
   "cell_type": "code",
   "execution_count": 13,
   "metadata": {},
   "outputs": [
    {
     "name": "stdout",
     "output_type": "stream",
     "text": [
      "2\n",
      "5\n"
     ]
    }
   ],
   "source": [
    "'''\n",
    "LESSER OF TWO EVENS: Write a function that returns the lesser of two given numbers if both numbers are even, \n",
    "but returns the greater if one or both numbers are odd lesser_of_two_evens(2,4) --> 2 lesser_of_two_evens(2,5) --> 5\n",
    "'''\n",
    "\n",
    "def lesser_of_two_evens(first_int, second_int):\n",
    "    if first_int < second_int and (first_int % 2) == 0 and (second_int % 2) == 0:\n",
    "        return first_int\n",
    "    else: \n",
    "        return second_int\n",
    "\n",
    "print(lesser_of_two_evens(2,4))\n",
    "print(lesser_of_two_evens(2,5))"
   ]
  },
  {
   "cell_type": "code",
   "execution_count": 14,
   "metadata": {},
   "outputs": [
    {
     "name": "stdout",
     "output_type": "stream",
     "text": [
      "True\n",
      "False\n"
     ]
    }
   ],
   "source": [
    "'''\n",
    "ANIMAL CRACKERS: Write a function takes a two-word string and returns True if both words begin with \n",
    "same letter animal_crackers('Levelheaded Llama') --> True animal_crackers('Crazy Kangaroo') --> False\n",
    "'''\n",
    "def animal_crackers(string):\n",
    "    stringList = string.split()\n",
    "    return stringList[0][0] == stringList[1][0]\n",
    "\n",
    "print(animal_crackers('Levelheaded Llama'))\n",
    "print(animal_crackers('Crazy Kangaroo'))"
   ]
  },
  {
   "cell_type": "code",
   "execution_count": 15,
   "metadata": {},
   "outputs": [
    {
     "name": "stdout",
     "output_type": "stream",
     "text": [
      "True\n",
      "True\n",
      "False\n"
     ]
    }
   ],
   "source": [
    "'''\n",
    "MAKES TWENTY: Given two integers, return True if the sum of the integers is 20 \n",
    "or if one of the integers is 20. If not, return False\n",
    "\n",
    "makes_twenty(20,10) --> True\n",
    "\n",
    "makes_twenty(12,8) --> True\n",
    "\n",
    "makes_twenty(2,3) --> False\n",
    "'''\n",
    "\n",
    "def makes_twenty(first_int, second_int):\n",
    "    return first_int + second_int == 20 or second_int == 20 or first_int == 20\n",
    "\n",
    "print(makes_twenty(20,10))\n",
    "print(makes_twenty(12,8))\n",
    "print(makes_twenty(2,3))"
   ]
  },
  {
   "cell_type": "code",
   "execution_count": 21,
   "metadata": {},
   "outputs": [
    {
     "data": {
      "text/plain": [
       "'MacDonald'"
      ]
     },
     "execution_count": 21,
     "metadata": {},
     "output_type": "execute_result"
    }
   ],
   "source": [
    "'''\n",
    "OLD MACDONALD: Write a function that capitalizes the first and fourth letters of a name\n",
    "\n",
    "old_macdonald('macdonald') --> MacDonald\n",
    "\n",
    "Note: 'macdonald'.capitalize() returns 'Macdonald'\n",
    "'''\n",
    "\n",
    "def old_macdonald(string):\n",
    "    return string[0].upper() + string[1:3] + string[3].upper() + string[4:]\n",
    "\n",
    "old_macdonald('macdonald') "
   ]
  },
  {
   "cell_type": "code",
   "execution_count": 23,
   "metadata": {},
   "outputs": [
    {
     "name": "stdout",
     "output_type": "stream",
     "text": [
      "True\n",
      "True\n",
      "False\n",
      "True\n"
     ]
    }
   ],
   "source": [
    "'''\n",
    "ALMOST THERE: Given an integer n, return True if n is within 10 of either 100 or 200\n",
    "\n",
    "almost_there(90) --> True\n",
    "\n",
    "almost_there(104) --> True\n",
    "\n",
    "almost_there(150) --> False\n",
    "\n",
    "almost_there(209) --> True\n",
    "\n",
    "NOTE: abs(num) returns the absolute value of a number\n",
    "'''\n",
    "def almost_there(num):\n",
    "    within = 10\n",
    "    first = 100\n",
    "    second = 200\n",
    "    return (num >= first - 10 and num <= first + 10) or (num >= second - 10 and num <= second + 10)\n",
    "\n",
    "print(almost_there(90))\n",
    "print(almost_there(104))\n",
    "print(almost_there(150))\n",
    "print(almost_there(209))"
   ]
  },
  {
   "cell_type": "code",
   "execution_count": null,
   "outputs": [],
   "source": [
    "'''\n",
    "Given a list of ints, return True if the array contains a 3 next to a 3 somewhere.\n",
    "\n",
    "has_33([1, 3, 3]) → True\n",
    "\n",
    "has_33([1, 3, 1, 3]) → False\n",
    "\n",
    "has_33([3, 1, 3]) → False\n",
    "'''\n",
    "\n",
    "def has_33(list):\n",
    "    index = 0\n",
    "    for i in list:\n",
    "        if index < len(list) - 1:\n",
    "            if list[index] == list[index+1] and list[index] == 3:\n",
    "                return True\n",
    "        index = index + 1\n",
    "    return False\n",
    "\n",
    "print(has_33([1, 3, 3]))\n",
    "print(has_33([1, 3, 1, 3]))\n",
    "print(has_33([3, 1, 3]))"
   ],
   "metadata": {
    "collapsed": false,
    "pycharm": {
     "name": "#%%\n"
    }
   }
  },
  {
   "cell_type": "code",
   "execution_count": null,
   "outputs": [],
   "source": [
    "'''\n",
    "PAPER DOLL: Given a string, return a string where for every character in the original \n",
    "there are three characters paper_doll('Hello') --> 'HHHeeellllllooo' \n",
    "paper_doll('Mississippi') --> 'MMMiiissssssiiippppppiii'\n",
    "'''\n",
    "\n",
    "def paper_doll(string):\n",
    "    new_string = \"\"\n",
    "    for i in string:\n",
    "        new_string = new_string + 3*i\n",
    "    return new_string\n",
    "\n",
    "print(paper_doll('Hello'))\n",
    "print(paper_doll('Mississippi'))"
   ],
   "metadata": {
    "collapsed": false,
    "pycharm": {
     "name": "#%%\n"
    }
   }
  },
  {
   "cell_type": "code",
   "execution_count": null,
   "outputs": [],
   "source": [
    "'''\n",
    "BLACKJACK: Given three integers between 1 and 11, if their sum is less than or equal to 21, \n",
    "return their sum. If their sum exceeds 21 and there's an eleven, reduce the total sum by 10. \n",
    "Finally, if the sum (even after adjustment) exceeds 21, return 'BUST' blackjack(5,6,7) --> 18 \n",
    "blackjack(9,9,9) --> 'BUST' blackjack(9,9,11) --> 19\n",
    "'''\n",
    "\n",
    "def blackjack(int1, int2, int3):\n",
    "    if int1 + int2 + int3 <= 21: \n",
    "        return int1 + int2 + int3\n",
    "    elif int1 + int2 + int3 > 21 and (int1 == 11 or int2 == 11 or int3 == 11): \n",
    "        return int1 + int2 + int3 - 10\n",
    "    else:\n",
    "        return 'BUST'\n",
    "    \n",
    "print(blackjack(5,6,7))\n",
    "print(blackjack(9,9,9))\n",
    "print(blackjack(9,9,11))"
   ],
   "metadata": {
    "collapsed": false,
    "pycharm": {
     "name": "#%%\n"
    }
   }
  },
  {
   "cell_type": "code",
   "execution_count": null,
   "outputs": [],
   "source": [
    "'''\n",
    "SUMMER OF '69: Return the sum of the numbers in the array, \n",
    "except ignore sections of numbers starting with a 6 and extending to the next 9 \n",
    "(every 6 will be followed by at least one 9). Return 0 for no numbers.\n",
    "\n",
    "summer_69([1, 3, 5]) --> 9\n",
    "\n",
    "summer_69([4, 5, 6, 7, 8, 9]) --> 9\n",
    "\n",
    "summer_69([2, 1, 6, 9, 11]) --> 14\n",
    "'''\n",
    "\n",
    "def summer_69(array):\n",
    "    sum = 0\n",
    "    for i in array:\n",
    "        sum = sum + i\n",
    "    return sum\n",
    "\n",
    "print(summer_69([1, 3, 5]))\n",
    "print(summer_69([4, 5, 6, 7, 8, 9]))\n",
    "print(summer_69([2, 1, 6, 9, 11]))"
   ],
   "metadata": {
    "collapsed": false,
    "pycharm": {
     "name": "#%%\n"
    }
   }
  },
  {
   "cell_type": "code",
   "execution_count": null,
   "outputs": [],
   "source": [
    "'''\n",
    "SPY GAME: Write a function that takes in a list of integers and returns True if it contains 007 in order\n",
    "\n",
    "spy_game([1,2,4,0,0,7,5]) --> True\n",
    "\n",
    "spy_game([1,0,2,4,0,5,7]) --> True\n",
    "\n",
    "spy_game([1,7,2,0,4,5,0]) --> False\n",
    "'''\n",
    "\n",
    "def spy_game(list):\n",
    "    index = 0\n",
    "    for i in list:\n",
    "        if index < len(list) - 2:\n",
    "            if list[index] == list[index+1] and list[index] == 0 and list[index+2] == 7:\n",
    "                return True\n",
    "        index = index + 1\n",
    "    return False\n",
    "\n",
    "print(spy_game([1,2,4,0,0,7,5]))\n",
    "print(spy_game([1,0,2,4,0,5,7]))\n",
    "print(spy_game([1,7,2,0,4,5,0]))"
   ],
   "metadata": {
    "collapsed": false,
    "pycharm": {
     "name": "#%%\n"
    }
   }
  },
  {
   "cell_type": "code",
   "execution_count": 34,
   "metadata": {},
   "outputs": [
    {
     "name": "stdout",
     "output_type": "stream",
     "text": [
      "True\n",
      "False\n",
      "False\n"
     ]
    }
   ],
   "source": []
  },
  {
   "cell_type": "code",
   "execution_count": 36,
   "metadata": {},
   "outputs": [
    {
     "name": "stdout",
     "output_type": "stream",
     "text": [
      "HHHeeellllllooo\n",
      "MMMiiissssssiiissssssiiippppppiii\n"
     ]
    }
   ],
   "source": [
    "'''\n",
    "PAPER DOLL: Given a string, return a string where for every character in the original \n",
    "there are three characters paper_doll('Hello') --> 'HHHeeellllllooo' \n",
    "paper_doll('Mississippi') --> 'MMMiiissssssiiippppppiii'\n",
    "'''\n",
    "\n",
    "def paper_doll(string):\n",
    "    new_string = \"\"\n",
    "    for i in string:\n",
    "        new_string = new_string + 3*i\n",
    "    return new_string\n",
    "\n",
    "print(paper_doll('Hello'))\n",
    "print(paper_doll('Mississippi'))"
   ]
  },
  {
   "cell_type": "code",
   "execution_count": 39,
   "metadata": {},
   "outputs": [
    {
     "name": "stdout",
     "output_type": "stream",
     "text": [
      "18\n",
      "BUST\n",
      "19\n"
     ]
    }
   ],
   "source": [
    "'''\n",
    "BLACKJACK: Given three integers between 1 and 11, if their sum is less than or equal to 21, \n",
    "return their sum. If their sum exceeds 21 and there's an eleven, reduce the total sum by 10. \n",
    "Finally, if the sum (even after adjustment) exceeds 21, return 'BUST' blackjack(5,6,7) --> 18 \n",
    "blackjack(9,9,9) --> 'BUST' blackjack(9,9,11) --> 19\n",
    "'''\n",
    "\n",
    "def blackjack(int1, int2, int3):\n",
    "    if int1 + int2 + int3 <= 21: \n",
    "        return int1 + int2 + int3\n",
    "    elif int1 + int2 + int3 > 21 and (int1 == 11 or int2 == 11 or int3 == 11): \n",
    "        return int1 + int2 + int3 - 10\n",
    "    else:\n",
    "        return 'BUST'\n",
    "    \n",
    "print(blackjack(5,6,7))\n",
    "print(blackjack(9,9,9))\n",
    "print(blackjack(9,9,11))"
   ]
  },
  {
   "cell_type": "code",
   "execution_count": 44,
   "metadata": {},
   "outputs": [
    {
     "name": "stdout",
     "output_type": "stream",
     "text": [
      "9\n",
      "39\n",
      "29\n"
     ]
    }
   ],
   "source": [
    "'''\n",
    "SUMMER OF '69: Return the sum of the numbers in the array, \n",
    "except ignore sections of numbers starting with a 6 and extending to the next 9 \n",
    "(every 6 will be followed by at least one 9). Return 0 for no numbers.\n",
    "\n",
    "summer_69([1, 3, 5]) --> 9\n",
    "\n",
    "summer_69([4, 5, 6, 7, 8, 9]) --> 9\n",
    "\n",
    "summer_69([2, 1, 6, 9, 11]) --> 14\n",
    "'''\n",
    "\n",
    "def summer_69(array):\n",
    "    sum = 0\n",
    "    for i in array:\n",
    "        sum = sum + i\n",
    "    return sum\n",
    "\n",
    "print(summer_69([1, 3, 5]))\n",
    "print(summer_69([4, 5, 6, 7, 8, 9]))\n",
    "print(summer_69([2, 1, 6, 9, 11]))"
   ]
  },
  {
   "cell_type": "code",
   "execution_count": 45,
   "metadata": {},
   "outputs": [
    {
     "name": "stdout",
     "output_type": "stream",
     "text": [
      "True\n",
      "False\n",
      "False\n"
     ]
    }
   ],
   "source": [
    "'''\n",
    "SPY GAME: Write a function that takes in a list of integers and returns True if it contains 007 in order\n",
    "\n",
    "spy_game([1,2,4,0,0,7,5]) --> True\n",
    "\n",
    "spy_game([1,0,2,4,0,5,7]) --> True\n",
    "\n",
    "spy_game([1,7,2,0,4,5,0]) --> False\n",
    "'''\n",
    "\n",
    "def spy_game(list):\n",
    "    index = 0\n",
    "    for i in list:\n",
    "        if index < len(list) - 2:\n",
    "            if list[index] == list[index+1] and list[index] == 0 and list[index+2] == 7:\n",
    "                return True\n",
    "        index = index + 1\n",
    "    return False\n",
    "\n",
    "print(spy_game([1,2,4,0,0,7,5]))\n",
    "print(spy_game([1,0,2,4,0,5,7]))\n",
    "print(spy_game([1,7,2,0,4,5,0]))"
   ]
  },
  {
   "cell_type": "code",
   "execution_count": null,
   "metadata": {},
   "outputs": [],
   "source": []
  }
 ],
 "metadata": {
  "kernelspec": {
   "display_name": "Python 3",
   "language": "python",
   "name": "python3"
  },
  "language_info": {
   "codemirror_mode": {
    "name": "ipython",
    "version": 3
   },
   "file_extension": ".py",
   "mimetype": "text/x-python",
   "name": "python",
   "nbconvert_exporter": "python",
   "pygments_lexer": "ipython3",
   "version": "3.7.3"
  }
 },
 "nbformat": 4,
 "nbformat_minor": 1
}