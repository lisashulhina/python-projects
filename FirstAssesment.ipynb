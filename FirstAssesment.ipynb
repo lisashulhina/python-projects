{
 "cells": [
  {
   "cell_type": "code",
   "execution_count": 5,
   "metadata": {},
   "outputs": [
    {
     "data": {
      "text/plain": [
       "34"
      ]
     },
     "execution_count": 5,
     "metadata": {},
     "output_type": "execute_result"
    }
   ],
   "source": [
    "# Answer these 3 questions without typing code. Then type code to check your answer.\n",
    "\n",
    "# What is the value of the expression 4 * (6 + 5)\n",
    "44\n",
    "# What is the value of the expression 4 * 6 + 5\n",
    "29\n",
    "#What is the value of the expression 4 + 6 * 5\n",
    "34"
   ]
  },
  {
   "cell_type": "code",
   "execution_count": 2,
   "metadata": {},
   "outputs": [
    {
     "data": {
      "text/plain": [
       "44"
      ]
     },
     "execution_count": 2,
     "metadata": {},
     "output_type": "execute_result"
    }
   ],
   "source": [
    "4 * (6 + 5)"
   ]
  },
  {
   "cell_type": "code",
   "execution_count": 3,
   "metadata": {},
   "outputs": [
    {
     "data": {
      "text/plain": [
       "29"
      ]
     },
     "execution_count": 3,
     "metadata": {},
     "output_type": "execute_result"
    }
   ],
   "source": [
    "4 * 6 + 5"
   ]
  },
  {
   "cell_type": "code",
   "execution_count": 4,
   "metadata": {},
   "outputs": [
    {
     "data": {
      "text/plain": [
       "34"
      ]
     },
     "execution_count": 4,
     "metadata": {},
     "output_type": "execute_result"
    }
   ],
   "source": [
    "4 + 6 * 5"
   ]
  },
  {
   "cell_type": "code",
   "execution_count": 6,
   "metadata": {},
   "outputs": [
    {
     "data": {
      "text/plain": [
       "5.0"
      ]
     },
     "execution_count": 6,
     "metadata": {},
     "output_type": "execute_result"
    }
   ],
   "source": [
    "#What would you use to find a number’s square root, as well as its square?\n",
    "\n",
    "#square root\n",
    "number = 25\n",
    "sqrt = number ** 0.5\n",
    "sqrt"
   ]
  },
  {
   "cell_type": "code",
   "execution_count": null,
   "outputs": [],
   "source": [
    "#square\n",
    "number = 4\n",
    "sqrt = number ** 2\n",
    "sqrt"
   ],
   "metadata": {
    "collapsed": false,
    "pycharm": {
     "name": "#%%\n"
    }
   }
  },
  {
   "cell_type": "code",
   "execution_count": null,
   "outputs": [],
   "source": [
    "#Try creating your own variables and storing values into those variables.\n",
    "var = 10\n",
    "#Print out the values that are stored and also print the datatype of the variables created.\n",
    "print(var)\n",
    "print(type(var))"
   ],
   "metadata": {
    "collapsed": false,
    "pycharm": {
     "name": "#%%\n"
    }
   }
  },
  {
   "cell_type": "code",
   "execution_count": null,
   "outputs": [],
   "source": [
    "#Include an assignment that will add two numbers together (for example 4+5) and then assign the result to a variable.\n",
    "\n",
    "#Similarly perform all the mathematical operations like Subtraction, Multiplication, Division , floor division , \n",
    "# Power , Square root and print out that variables value once it has been assigned a value\n",
    "\n",
    "Subtraction = 10 - 5\n",
    "print(Subtraction)\n",
    "\n",
    "Multiplication = 10 * 5\n",
    "print(Multiplication)\n",
    "\n",
    "Division = 10 / 5\n",
    "print(Division)\n",
    "\n",
    "FloorDivision = 10 % 5\n",
    "print(FloorDivision)\n",
    "\n",
    "Power = 10 ** 2\n",
    "print(Power)\n",
    "\n",
    "SquareRoot = 10 ** 0.5\n",
    "print(SquareRoot)"
   ],
   "metadata": {
    "collapsed": false,
    "pycharm": {
     "name": "#%%\n"
    }
   }
  },
  {
   "cell_type": "code",
   "execution_count": null,
   "outputs": [],
   "source": [
    "# Try Printing “*” - in the first line 20 times , second line 30 times and third row 40 time\n",
    "\n",
    "print(\"*\" * 20 + '\\n' + \"*\" * 30 + '\\n' + \"*\" * 40 + '\\n')"
   ],
   "metadata": {
    "collapsed": false,
    "pycharm": {
     "name": "#%%\n"
    }
   }
  },
  {
   "cell_type": "code",
   "execution_count": 7,
   "metadata": {},
   "outputs": [
    {
     "data": {
      "text/plain": [
       "16"
      ]
     },
     "execution_count": 7,
     "metadata": {},
     "output_type": "execute_result"
    }
   ],
   "source": []
  },
  {
   "cell_type": "code",
   "execution_count": 9,
   "metadata": {},
   "outputs": [
    {
     "name": "stdout",
     "output_type": "stream",
     "text": [
      "10\n",
      "<class 'int'>\n"
     ]
    }
   ],
   "source": [
    "#Try creating your own variables and storing values into those variables.\n",
    "var = 10\n",
    "#Print out the values that are stored and also print the datatype of the variables created.\n",
    "print(var)\n",
    "print(type(var))"
   ]
  },
  {
   "cell_type": "code",
   "execution_count": 17,
   "metadata": {},
   "outputs": [
    {
     "name": "stdout",
     "output_type": "stream",
     "text": [
      "5\n",
      "50\n",
      "2.0\n",
      "0\n",
      "100\n",
      "3.1622776601683795\n"
     ]
    }
   ],
   "source": [
    "#Include an assignment that will add two numbers together (for example 4+5) and then assign the result to a variable.\n",
    "\n",
    "#Similarly perform all the mathematical operations like Subtraction, Multiplication, Division , floor division , \n",
    "# Power , Square root and print out that variables value once it has been assigned a value\n",
    "\n",
    "Subtraction = 10 - 5\n",
    "print(Subtraction)\n",
    "\n",
    "Multiplication = 10 * 5\n",
    "print(Multiplication)\n",
    "\n",
    "Division = 10 / 5\n",
    "print(Division)\n",
    "\n",
    "FloorDivision = 10 % 5\n",
    "print(FloorDivision)\n",
    "\n",
    "Power = 10 ** 2\n",
    "print(Power)\n",
    "\n",
    "SquareRoot = 10 ** 0.5\n",
    "print(SquareRoot)"
   ]
  },
  {
   "cell_type": "code",
   "execution_count": 16,
   "metadata": {},
   "outputs": [
    {
     "name": "stdout",
     "output_type": "stream",
     "text": [
      "********************\n",
      "******************************\n",
      "****************************************\n",
      "\n"
     ]
    }
   ],
   "source": [
    "# Try Printing “*” - in the first line 20 times , second line 30 times and third row 40 time\n",
    "\n",
    "print(\"*\" * 20 + '\\n' + \"*\" * 30 + '\\n' + \"*\" * 40 + '\\n')"
   ]
  },
  {
   "cell_type": "code",
   "execution_count": null,
   "metadata": {},
   "outputs": [],
   "source": []
  }
 ],
 "metadata": {
  "kernelspec": {
   "display_name": "Python 3",
   "language": "python",
   "name": "python3"
  },
  "language_info": {
   "codemirror_mode": {
    "name": "ipython",
    "version": 3
   },
   "file_extension": ".py",
   "mimetype": "text/x-python",
   "name": "python",
   "nbconvert_exporter": "python",
   "pygments_lexer": "ipython3",
   "version": "3.7.3"
  }
 },
 "nbformat": 4,
 "nbformat_minor": 1
}